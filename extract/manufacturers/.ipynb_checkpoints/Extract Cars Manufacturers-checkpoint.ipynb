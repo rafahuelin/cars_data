{
 "cells": [
  {
   "cell_type": "markdown",
   "metadata": {},
   "source": [
    "### Extract manufacturers from BOE"
   ]
  },
  {
   "cell_type": "markdown",
   "metadata": {},
   "source": [
    "#### Trust this notebook\n",
    "\n",
    "Click on the Trust butotn"
   ]
  },
  {
   "cell_type": "code",
   "execution_count": 15,
   "metadata": {},
   "outputs": [],
   "source": [
    "import camelot\n",
    "import pandas as pd\n",
    "import os"
   ]
  },
  {
   "cell_type": "code",
   "execution_count": 2,
   "metadata": {},
   "outputs": [
    {
     "data": {
      "text/plain": [
       "'D:\\\\Projects\\\\Python\\\\cars_data\\\\extract\\\\manufacturers'"
      ]
     },
     "execution_count": 2,
     "metadata": {},
     "output_type": "execute_result"
    }
   ],
   "source": [
    "os.getcwd()"
   ]
  },
  {
   "cell_type": "code",
   "execution_count": 7,
   "metadata": {},
   "outputs": [],
   "source": [
    "tables = camelot.read_pdf('BOE-A-2018-17664.pdf', pages='4-608')"
   ]
  },
  {
   "cell_type": "code",
   "execution_count": 8,
   "metadata": {},
   "outputs": [
    {
     "data": {
      "text/plain": [
       "<TableList n=605>"
      ]
     },
     "execution_count": 8,
     "metadata": {},
     "output_type": "execute_result"
    }
   ],
   "source": [
    "tables"
   ]
  },
  {
   "cell_type": "code",
   "execution_count": 13,
   "metadata": {},
   "outputs": [
    {
     "data": {
      "text/html": [
       "<div>\n",
       "<style scoped>\n",
       "    .dataframe tbody tr th:only-of-type {\n",
       "        vertical-align: middle;\n",
       "    }\n",
       "\n",
       "    .dataframe tbody tr th {\n",
       "        vertical-align: top;\n",
       "    }\n",
       "\n",
       "    .dataframe thead th {\n",
       "        text-align: right;\n",
       "    }\n",
       "</style>\n",
       "<table border=\"1\" class=\"dataframe\">\n",
       "  <thead>\n",
       "    <tr style=\"text-align: right;\">\n",
       "      <th></th>\n",
       "      <th>0</th>\n",
       "      <th>1</th>\n",
       "      <th>2</th>\n",
       "      <th>3</th>\n",
       "      <th>4</th>\n",
       "      <th>5</th>\n",
       "      <th>6</th>\n",
       "      <th>7</th>\n",
       "      <th>8</th>\n",
       "      <th>9</th>\n",
       "    </tr>\n",
       "  </thead>\n",
       "  <tbody>\n",
       "    <tr>\n",
       "      <th>43</th>\n",
       "      <td>VOLVO</td>\n",
       "      <td>V 90 T6 R-Design AWD 320</td>\n",
       "      <td>2016-</td>\n",
       "      <td>1969</td>\n",
       "      <td>4</td>\n",
       "      <td>G</td>\n",
       "      <td>236</td>\n",
       "      <td>13,20</td>\n",
       "      <td>320</td>\n",
       "      <td>57900</td>\n",
       "    </tr>\n",
       "    <tr>\n",
       "      <th>44</th>\n",
       "      <td>VOLVO</td>\n",
       "      <td>V 90 T8 Twin Engine AWD Momentum Aut.</td>\n",
       "      <td>2016-</td>\n",
       "      <td>1969</td>\n",
       "      <td>4</td>\n",
       "      <td>G</td>\n",
       "      <td>300</td>\n",
       "      <td>13,20</td>\n",
       "      <td>408</td>\n",
       "      <td>62000</td>\n",
       "    </tr>\n",
       "    <tr>\n",
       "      <th>45</th>\n",
       "      <td>VOLVO</td>\n",
       "      <td>V 90 T8 Twin Engine AWD R-Design Aut.</td>\n",
       "      <td>2016-</td>\n",
       "      <td>1969</td>\n",
       "      <td>4</td>\n",
       "      <td>G</td>\n",
       "      <td>300</td>\n",
       "      <td>13,20</td>\n",
       "      <td>408</td>\n",
       "      <td>63400</td>\n",
       "    </tr>\n",
       "    <tr>\n",
       "      <th>46</th>\n",
       "      <td>VOLVO</td>\n",
       "      <td>V 90 T8 Twin Engine AWD Inscription</td>\n",
       "      <td>2016-</td>\n",
       "      <td>1969</td>\n",
       "      <td>4</td>\n",
       "      <td>G</td>\n",
       "      <td>300</td>\n",
       "      <td>13,20</td>\n",
       "      <td>408</td>\n",
       "      <td>64800</td>\n",
       "    </tr>\n",
       "    <tr>\n",
       "      <th>47</th>\n",
       "      <td></td>\n",
       "      <td></td>\n",
       "      <td></td>\n",
       "      <td></td>\n",
       "      <td></td>\n",
       "      <td></td>\n",
       "      <td></td>\n",
       "      <td></td>\n",
       "      <td></td>\n",
       "      <td></td>\n",
       "    </tr>\n",
       "  </tbody>\n",
       "</table>\n",
       "</div>"
      ],
      "text/plain": [
       "        0                                      1      2     3  4  5    6  \\\n",
       "43  VOLVO               V 90 T6 R-Design AWD 320  2016-  1969  4  G  236   \n",
       "44  VOLVO  V 90 T8 Twin Engine AWD Momentum Aut.  2016-  1969  4  G  300   \n",
       "45  VOLVO  V 90 T8 Twin Engine AWD R-Design Aut.  2016-  1969  4  G  300   \n",
       "46  VOLVO    V 90 T8 Twin Engine AWD Inscription  2016-  1969  4  G  300   \n",
       "47                                                                         \n",
       "\n",
       "        7    8      9  \n",
       "43  13,20  320  57900  \n",
       "44  13,20  408  62000  \n",
       "45  13,20  408  63400  \n",
       "46  13,20  408  64800  \n",
       "47                     "
      ]
     },
     "execution_count": 13,
     "metadata": {},
     "output_type": "execute_result"
    }
   ],
   "source": [
    "tables[-1].df.tail()"
   ]
  },
  {
   "cell_type": "code",
   "execution_count": 26,
   "metadata": {},
   "outputs": [],
   "source": [
    "df = pd.DataFrame()\n",
    "\n",
    "for i in range(len(tables)):\n",
    "    df_table = tables[i].df.iloc[2:]\n",
    "    df = df.append(df_table)"
   ]
  },
  {
   "cell_type": "code",
   "execution_count": 27,
   "metadata": {},
   "outputs": [
    {
     "data": {
      "text/html": [
       "<div>\n",
       "<style scoped>\n",
       "    .dataframe tbody tr th:only-of-type {\n",
       "        vertical-align: middle;\n",
       "    }\n",
       "\n",
       "    .dataframe tbody tr th {\n",
       "        vertical-align: top;\n",
       "    }\n",
       "\n",
       "    .dataframe thead th {\n",
       "        text-align: right;\n",
       "    }\n",
       "</style>\n",
       "<table border=\"1\" class=\"dataframe\">\n",
       "  <thead>\n",
       "    <tr style=\"text-align: right;\">\n",
       "      <th></th>\n",
       "      <th>0</th>\n",
       "      <th>1</th>\n",
       "      <th>2</th>\n",
       "      <th>3</th>\n",
       "      <th>4</th>\n",
       "      <th>5</th>\n",
       "      <th>6</th>\n",
       "      <th>7</th>\n",
       "      <th>8</th>\n",
       "      <th>9</th>\n",
       "    </tr>\n",
       "  </thead>\n",
       "  <tbody>\n",
       "    <tr>\n",
       "      <th>43</th>\n",
       "      <td>VOLVO</td>\n",
       "      <td>V 90 T6 R-Design AWD 320</td>\n",
       "      <td>2016-</td>\n",
       "      <td>1969</td>\n",
       "      <td>4</td>\n",
       "      <td>G</td>\n",
       "      <td>236</td>\n",
       "      <td>13,20</td>\n",
       "      <td>320</td>\n",
       "      <td>57900</td>\n",
       "    </tr>\n",
       "    <tr>\n",
       "      <th>44</th>\n",
       "      <td>VOLVO</td>\n",
       "      <td>V 90 T8 Twin Engine AWD Momentum Aut.</td>\n",
       "      <td>2016-</td>\n",
       "      <td>1969</td>\n",
       "      <td>4</td>\n",
       "      <td>G</td>\n",
       "      <td>300</td>\n",
       "      <td>13,20</td>\n",
       "      <td>408</td>\n",
       "      <td>62000</td>\n",
       "    </tr>\n",
       "    <tr>\n",
       "      <th>45</th>\n",
       "      <td>VOLVO</td>\n",
       "      <td>V 90 T8 Twin Engine AWD R-Design Aut.</td>\n",
       "      <td>2016-</td>\n",
       "      <td>1969</td>\n",
       "      <td>4</td>\n",
       "      <td>G</td>\n",
       "      <td>300</td>\n",
       "      <td>13,20</td>\n",
       "      <td>408</td>\n",
       "      <td>63400</td>\n",
       "    </tr>\n",
       "    <tr>\n",
       "      <th>46</th>\n",
       "      <td>VOLVO</td>\n",
       "      <td>V 90 T8 Twin Engine AWD Inscription</td>\n",
       "      <td>2016-</td>\n",
       "      <td>1969</td>\n",
       "      <td>4</td>\n",
       "      <td>G</td>\n",
       "      <td>300</td>\n",
       "      <td>13,20</td>\n",
       "      <td>408</td>\n",
       "      <td>64800</td>\n",
       "    </tr>\n",
       "    <tr>\n",
       "      <th>47</th>\n",
       "      <td></td>\n",
       "      <td></td>\n",
       "      <td></td>\n",
       "      <td></td>\n",
       "      <td></td>\n",
       "      <td></td>\n",
       "      <td></td>\n",
       "      <td></td>\n",
       "      <td></td>\n",
       "      <td></td>\n",
       "    </tr>\n",
       "  </tbody>\n",
       "</table>\n",
       "</div>"
      ],
      "text/plain": [
       "        0                                      1      2     3  4  5    6  \\\n",
       "43  VOLVO               V 90 T6 R-Design AWD 320  2016-  1969  4  G  236   \n",
       "44  VOLVO  V 90 T8 Twin Engine AWD Momentum Aut.  2016-  1969  4  G  300   \n",
       "45  VOLVO  V 90 T8 Twin Engine AWD R-Design Aut.  2016-  1969  4  G  300   \n",
       "46  VOLVO    V 90 T8 Twin Engine AWD Inscription  2016-  1969  4  G  300   \n",
       "47                                                                         \n",
       "\n",
       "        7    8      9  \n",
       "43  13,20  320  57900  \n",
       "44  13,20  408  62000  \n",
       "45  13,20  408  63400  \n",
       "46  13,20  408  64800  \n",
       "47                     "
      ]
     },
     "execution_count": 27,
     "metadata": {},
     "output_type": "execute_result"
    }
   ],
   "source": [
    "df.tail()"
   ]
  },
  {
   "cell_type": "code",
   "execution_count": 28,
   "metadata": {},
   "outputs": [],
   "source": [
    "df_manufacturers = df.iloc[:,0]"
   ]
  },
  {
   "cell_type": "code",
   "execution_count": 31,
   "metadata": {},
   "outputs": [],
   "source": [
    "df_manufacturers = df_manufacturers.drop_duplicates()"
   ]
  },
  {
   "cell_type": "code",
   "execution_count": 41,
   "metadata": {},
   "outputs": [
    {
     "ename": "AttributeError",
     "evalue": "'Series' object has no attribute 'columns'",
     "output_type": "error",
     "traceback": [
      "\u001b[1;31m---------------------------------------------------------------------------\u001b[0m",
      "\u001b[1;31mAttributeError\u001b[0m                            Traceback (most recent call last)",
      "\u001b[1;32m<ipython-input-41-486e839444dc>\u001b[0m in \u001b[0;36m<module>\u001b[1;34m\u001b[0m\n\u001b[0;32m      1\u001b[0m \u001b[1;31m# x[x.columns[0]]\u001b[0m\u001b[1;33m\u001b[0m\u001b[1;33m\u001b[0m\u001b[1;33m\u001b[0m\u001b[0m\n\u001b[1;32m----> 2\u001b[1;33m \u001b[0mdf_manufacturers\u001b[0m\u001b[1;33m[\u001b[0m\u001b[0mdf_manufacturers\u001b[0m\u001b[1;33m.\u001b[0m\u001b[0mcolumns\u001b[0m\u001b[1;33m[\u001b[0m\u001b[1;36m1\u001b[0m\u001b[1;33m]\u001b[0m\u001b[1;33m]\u001b[0m\u001b[1;33m\u001b[0m\u001b[1;33m\u001b[0m\u001b[0m\n\u001b[0m",
      "\u001b[1;32mD:\\Projects\\Python\\cars_data\\.venv\\lib\\site-packages\\pandas\\core\\generic.py\u001b[0m in \u001b[0;36m__getattr__\u001b[1;34m(self, name)\u001b[0m\n\u001b[0;32m   5173\u001b[0m             \u001b[1;32mor\u001b[0m \u001b[0mname\u001b[0m \u001b[1;32min\u001b[0m \u001b[0mself\u001b[0m\u001b[1;33m.\u001b[0m\u001b[0m_accessors\u001b[0m\u001b[1;33m\u001b[0m\u001b[1;33m\u001b[0m\u001b[0m\n\u001b[0;32m   5174\u001b[0m         ):\n\u001b[1;32m-> 5175\u001b[1;33m             \u001b[1;32mreturn\u001b[0m \u001b[0mobject\u001b[0m\u001b[1;33m.\u001b[0m\u001b[0m__getattribute__\u001b[0m\u001b[1;33m(\u001b[0m\u001b[0mself\u001b[0m\u001b[1;33m,\u001b[0m \u001b[0mname\u001b[0m\u001b[1;33m)\u001b[0m\u001b[1;33m\u001b[0m\u001b[1;33m\u001b[0m\u001b[0m\n\u001b[0m\u001b[0;32m   5176\u001b[0m         \u001b[1;32melse\u001b[0m\u001b[1;33m:\u001b[0m\u001b[1;33m\u001b[0m\u001b[1;33m\u001b[0m\u001b[0m\n\u001b[0;32m   5177\u001b[0m             \u001b[1;32mif\u001b[0m \u001b[0mself\u001b[0m\u001b[1;33m.\u001b[0m\u001b[0m_info_axis\u001b[0m\u001b[1;33m.\u001b[0m\u001b[0m_can_hold_identifiers_and_holds_name\u001b[0m\u001b[1;33m(\u001b[0m\u001b[0mname\u001b[0m\u001b[1;33m)\u001b[0m\u001b[1;33m:\u001b[0m\u001b[1;33m\u001b[0m\u001b[1;33m\u001b[0m\u001b[0m\n",
      "\u001b[1;31mAttributeError\u001b[0m: 'Series' object has no attribute 'columns'"
     ]
    }
   ],
   "source": [
    "# x[x.columns[0]]\n",
    "df_manufacturers[df_manufacturers.columns[1]]"
   ]
  },
  {
   "cell_type": "code",
   "execution_count": null,
   "metadata": {},
   "outputs": [],
   "source": []
  }
 ],
 "metadata": {
  "kernelspec": {
   "display_name": "cars_data",
   "language": "python",
   "name": "cars_data"
  },
  "language_info": {
   "codemirror_mode": {
    "name": "ipython",
    "version": 3
   },
   "file_extension": ".py",
   "mimetype": "text/x-python",
   "name": "python",
   "nbconvert_exporter": "python",
   "pygments_lexer": "ipython3",
   "version": "3.7.5"
  }
 },
 "nbformat": 4,
 "nbformat_minor": 2
}
