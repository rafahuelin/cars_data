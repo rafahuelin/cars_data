{
 "cells": [
  {
   "cell_type": "code",
   "execution_count": 61,
   "metadata": {},
   "outputs": [],
   "source": [
    "import pandas as pd\n",
    "import numpy as np\n",
    "from sqlalchemy import create_engine\n",
    "\n",
    "engine_complete = create_engine('sqlite:///merged_idae_complete.db')\n",
    "engine_titles = create_engine('sqlite:///idae_titles.db')\n",
    "\n",
    "df_complete = pd.read_sql('cars', engine_complete)\n",
    "df_titles = pd.read_sql('cars', engine_titles)\n",
    "\n",
    "df_complete_dd = df_complete.drop_duplicates()\n",
    "df_titles_dd = df_titles.drop_duplicates()"
   ]
  },
  {
   "cell_type": "code",
   "execution_count": 60,
   "metadata": {},
   "outputs": [
    {
     "data": {
      "text/plain": [
       "0"
      ]
     },
     "execution_count": 60,
     "metadata": {},
     "output_type": "execute_result"
    }
   ],
   "source": [
    "# Duplicates amount in df_complete\n",
    "len(df_complete) - len(df_complete_dd)"
   ]
  },
  {
   "cell_type": "code",
   "execution_count": 63,
   "metadata": {},
   "outputs": [
    {
     "data": {
      "text/plain": [
       "729"
      ]
     },
     "execution_count": 63,
     "metadata": {},
     "output_type": "execute_result"
    }
   ],
   "source": [
    "# Duplicates amount in df_titles\n",
    "len(df_titles) - len(df_titles_dd)"
   ]
  },
  {
   "cell_type": "code",
   "execution_count": 64,
   "metadata": {},
   "outputs": [
    {
     "data": {
      "text/plain": [
       "19294"
      ]
     },
     "execution_count": 64,
     "metadata": {},
     "output_type": "execute_result"
    }
   ],
   "source": [
    "# Drop df_complete with empty 'Nombre'\n",
    "df_complete['Nombre'].replace('', np.nan, inplace=True)\n",
    "df_complete.dropna(subset=['Nombre'], inplace=True)\n",
    "len(df_complete)"
   ]
  },
  {
   "cell_type": "code",
   "execution_count": null,
   "metadata": {},
   "outputs": [],
   "source": []
  },
  {
   "cell_type": "code",
   "execution_count": null,
   "metadata": {},
   "outputs": [],
   "source": []
  },
  {
   "cell_type": "code",
   "execution_count": null,
   "metadata": {},
   "outputs": [],
   "source": [
    "not_in_titles = df_titles[~df_titles['Nombre'].isin(df_merged['Nombre'])]"
   ]
  },
  {
   "cell_type": "code",
   "execution_count": null,
   "metadata": {},
   "outputs": [],
   "source": []
  },
  {
   "cell_type": "code",
   "execution_count": null,
   "metadata": {},
   "outputs": [],
   "source": []
  },
  {
   "cell_type": "code",
   "execution_count": null,
   "metadata": {},
   "outputs": [],
   "source": []
  },
  {
   "cell_type": "code",
   "execution_count": 44,
   "metadata": {},
   "outputs": [
    {
     "data": {
      "text/html": [
       "<div>\n",
       "<style scoped>\n",
       "    .dataframe tbody tr th:only-of-type {\n",
       "        vertical-align: middle;\n",
       "    }\n",
       "\n",
       "    .dataframe tbody tr th {\n",
       "        vertical-align: top;\n",
       "    }\n",
       "\n",
       "    .dataframe thead th {\n",
       "        text-align: right;\n",
       "    }\n",
       "</style>\n",
       "<table border=\"1\" class=\"dataframe\">\n",
       "  <thead>\n",
       "    <tr style=\"text-align: right;\">\n",
       "      <th></th>\n",
       "      <th>Autonomía eléctrica</th>\n",
       "      <th>Cilindrada</th>\n",
       "      <th>Clasificación por Consumo Relativo</th>\n",
       "      <th>Consumo según ciclo NEDC</th>\n",
       "      <th>Consumo según ciclo WLTP</th>\n",
       "      <th>Dimensiones (largo x ancho x alto)</th>\n",
       "      <th>Emisiones según ciclo NEDC</th>\n",
       "      <th>Emisiones según ciclo WLTP</th>\n",
       "      <th>MTMA</th>\n",
       "      <th>Motorización</th>\n",
       "      <th>Nombre</th>\n",
       "      <th>Nº de Plazas Máximas</th>\n",
       "      <th>Potencia</th>\n",
       "      <th>Potencia eléctrica</th>\n",
       "      <th>Potencia térmica</th>\n",
       "      <th>Segmento comercial</th>\n",
       "      <th>Tecnología Híbrida (normal / enchufable)</th>\n",
       "      <th>Tipo de cambio</th>\n",
       "      <th>index</th>\n",
       "      <th>level_0</th>\n",
       "    </tr>\n",
       "  </thead>\n",
       "  <tbody>\n",
       "    <tr>\n",
       "      <th>0</th>\n",
       "      <td>0 kms</td>\n",
       "      <td>1.368 cm3</td>\n",
       "      <td>Clasificación: G</td>\n",
       "      <td>6,50 litros/100 kms</td>\n",
       "      <td>7,85 litros/100 kms</td>\n",
       "      <td>4.054 x 1.740 x 1.233 mm</td>\n",
       "      <td>151 CO2</td>\n",
       "      <td>181 CO2</td>\n",
       "      <td>905</td>\n",
       "      <td>Gasóleo</td>\n",
       "      <td>Abarth 124 SPIDER Abarth 124 Spider MultiAir 1...</td>\n",
       "      <td>4</td>\n",
       "      <td>170 cv</td>\n",
       "      <td>0 kw</td>\n",
       "      <td>125 kw</td>\n",
       "      <td>Deportivo</td>\n",
       "      <td></td>\n",
       "      <td>M</td>\n",
       "      <td>0.0</td>\n",
       "      <td>NaN</td>\n",
       "    </tr>\n",
       "    <tr>\n",
       "      <th>1</th>\n",
       "      <td>0 kms</td>\n",
       "      <td>1.368 cm3</td>\n",
       "      <td>Clasificación: G</td>\n",
       "      <td>5,90 litros/100 kms</td>\n",
       "      <td>7,40 litros/100 kms</td>\n",
       "      <td>3.660 x 1.627 x 1.490 mm</td>\n",
       "      <td>137 CO2</td>\n",
       "      <td>163 CO2</td>\n",
       "      <td>905</td>\n",
       "      <td>Gasóleo</td>\n",
       "      <td>Abarth 595 ABARTH 595 1.4 16v T-JET 107 KW (14...</td>\n",
       "      <td>4</td>\n",
       "      <td>145 cv</td>\n",
       "      <td>0 kw</td>\n",
       "      <td>107 kw</td>\n",
       "      <td>Minis</td>\n",
       "      <td></td>\n",
       "      <td>M</td>\n",
       "      <td>1.0</td>\n",
       "      <td>NaN</td>\n",
       "    </tr>\n",
       "    <tr>\n",
       "      <th>2</th>\n",
       "      <td>0 kms</td>\n",
       "      <td>1.368 cm3</td>\n",
       "      <td>Clasificación: G</td>\n",
       "      <td>5,90 litros/100 kms</td>\n",
       "      <td>7,40 litros/100 kms</td>\n",
       "      <td>3.660 x 1.627 x 1.490 mm</td>\n",
       "      <td>137 CO2</td>\n",
       "      <td>166 CO2</td>\n",
       "      <td>905</td>\n",
       "      <td>Gasóleo</td>\n",
       "      <td>Abarth 595C ABARTH 595C 1.4 16v T-JET 107 KW (...</td>\n",
       "      <td>4</td>\n",
       "      <td>145 cv</td>\n",
       "      <td>0 kw</td>\n",
       "      <td>107 kw</td>\n",
       "      <td>Minis</td>\n",
       "      <td></td>\n",
       "      <td>M</td>\n",
       "      <td>2.0</td>\n",
       "      <td>NaN</td>\n",
       "    </tr>\n",
       "    <tr>\n",
       "      <th>3</th>\n",
       "      <td>0 kms</td>\n",
       "      <td>1.368 cm3</td>\n",
       "      <td>Clasificación: G</td>\n",
       "      <td>5,90 litros/100 kms</td>\n",
       "      <td>7,40 litros/100 kms</td>\n",
       "      <td>3.660 x 1.627 x 1.490 mm</td>\n",
       "      <td>137 CO2</td>\n",
       "      <td>172 CO2</td>\n",
       "      <td>905</td>\n",
       "      <td>Gasóleo</td>\n",
       "      <td>Abarth COMPETIZIONE ABARTH 595 COMPETIZIONE 1....</td>\n",
       "      <td>4</td>\n",
       "      <td>179 cv</td>\n",
       "      <td>0 kw</td>\n",
       "      <td>132 kw</td>\n",
       "      <td>Minis</td>\n",
       "      <td></td>\n",
       "      <td>M</td>\n",
       "      <td>3.0</td>\n",
       "      <td>NaN</td>\n",
       "    </tr>\n",
       "    <tr>\n",
       "      <th>4</th>\n",
       "      <td>0 kms</td>\n",
       "      <td>1.368 cm3</td>\n",
       "      <td>Clasificación: G</td>\n",
       "      <td>5,90 litros/100 kms</td>\n",
       "      <td>7,40 litros/100 kms</td>\n",
       "      <td>3.660 x 1.627 x 1.490 mm</td>\n",
       "      <td>137 CO2</td>\n",
       "      <td>173 CO2</td>\n",
       "      <td>905</td>\n",
       "      <td>Gasóleo</td>\n",
       "      <td>Abarth COMPETIZIONE C ABARTH 595C COMPETIZIONE...</td>\n",
       "      <td>4</td>\n",
       "      <td>179 cv</td>\n",
       "      <td>0 kw</td>\n",
       "      <td>132 kw</td>\n",
       "      <td>Minis</td>\n",
       "      <td></td>\n",
       "      <td>M</td>\n",
       "      <td>4.0</td>\n",
       "      <td>NaN</td>\n",
       "    </tr>\n",
       "  </tbody>\n",
       "</table>\n",
       "</div>"
      ],
      "text/plain": [
       "  Autonomía eléctrica Cilindrada Clasificación por Consumo Relativo  \\\n",
       "0               0 kms  1.368 cm3                   Clasificación: G   \n",
       "1               0 kms  1.368 cm3                   Clasificación: G   \n",
       "2               0 kms  1.368 cm3                   Clasificación: G   \n",
       "3               0 kms  1.368 cm3                   Clasificación: G   \n",
       "4               0 kms  1.368 cm3                   Clasificación: G   \n",
       "\n",
       "  Consumo según ciclo NEDC Consumo según ciclo WLTP  \\\n",
       "0      6,50 litros/100 kms      7,85 litros/100 kms   \n",
       "1      5,90 litros/100 kms      7,40 litros/100 kms   \n",
       "2      5,90 litros/100 kms      7,40 litros/100 kms   \n",
       "3      5,90 litros/100 kms      7,40 litros/100 kms   \n",
       "4      5,90 litros/100 kms      7,40 litros/100 kms   \n",
       "\n",
       "  Dimensiones (largo x ancho x alto) Emisiones según ciclo NEDC  \\\n",
       "0           4.054 x 1.740 x 1.233 mm                    151 CO2   \n",
       "1           3.660 x 1.627 x 1.490 mm                    137 CO2   \n",
       "2           3.660 x 1.627 x 1.490 mm                    137 CO2   \n",
       "3           3.660 x 1.627 x 1.490 mm                    137 CO2   \n",
       "4           3.660 x 1.627 x 1.490 mm                    137 CO2   \n",
       "\n",
       "  Emisiones según ciclo WLTP MTMA Motorización  \\\n",
       "0                    181 CO2  905      Gasóleo   \n",
       "1                    163 CO2  905      Gasóleo   \n",
       "2                    166 CO2  905      Gasóleo   \n",
       "3                    172 CO2  905      Gasóleo   \n",
       "4                    173 CO2  905      Gasóleo   \n",
       "\n",
       "                                              Nombre Nº de Plazas Máximas  \\\n",
       "0  Abarth 124 SPIDER Abarth 124 Spider MultiAir 1...                    4   \n",
       "1  Abarth 595 ABARTH 595 1.4 16v T-JET 107 KW (14...                    4   \n",
       "2  Abarth 595C ABARTH 595C 1.4 16v T-JET 107 KW (...                    4   \n",
       "3  Abarth COMPETIZIONE ABARTH 595 COMPETIZIONE 1....                    4   \n",
       "4  Abarth COMPETIZIONE C ABARTH 595C COMPETIZIONE...                    4   \n",
       "\n",
       "  Potencia Potencia eléctrica Potencia térmica Segmento comercial  \\\n",
       "0   170 cv               0 kw           125 kw          Deportivo   \n",
       "1   145 cv               0 kw           107 kw              Minis   \n",
       "2   145 cv               0 kw           107 kw              Minis   \n",
       "3   179 cv               0 kw           132 kw              Minis   \n",
       "4   179 cv               0 kw           132 kw              Minis   \n",
       "\n",
       "  Tecnología Híbrida (normal / enchufable) Tipo de cambio  index  level_0  \n",
       "0                                                       M    0.0      NaN  \n",
       "1                                                       M    1.0      NaN  \n",
       "2                                                       M    2.0      NaN  \n",
       "3                                                       M    3.0      NaN  \n",
       "4                                                       M    4.0      NaN  "
      ]
     },
     "execution_count": 44,
     "metadata": {},
     "output_type": "execute_result"
    }
   ],
   "source": [
    "df_combined.drop_duplicates(subset='Nombre', keep=\"first\").head()"
   ]
  },
  {
   "cell_type": "code",
   "execution_count": 56,
   "metadata": {},
   "outputs": [
    {
     "data": {
      "text/html": [
       "<div>\n",
       "<style scoped>\n",
       "    .dataframe tbody tr th:only-of-type {\n",
       "        vertical-align: middle;\n",
       "    }\n",
       "\n",
       "    .dataframe tbody tr th {\n",
       "        vertical-align: top;\n",
       "    }\n",
       "\n",
       "    .dataframe thead th {\n",
       "        text-align: right;\n",
       "    }\n",
       "</style>\n",
       "<table border=\"1\" class=\"dataframe\">\n",
       "  <thead>\n",
       "    <tr style=\"text-align: right;\">\n",
       "      <th></th>\n",
       "      <th>Nombre</th>\n",
       "    </tr>\n",
       "  </thead>\n",
       "  <tbody>\n",
       "    <tr>\n",
       "      <th>183</th>\n",
       "      <td>Alfa Romeo Stelvio 2.2 210 CV AT8 AWD</td>\n",
       "    </tr>\n",
       "    <tr>\n",
       "      <th>370</th>\n",
       "      <td>Audi A3 CABRIOLET MY18 2.0 TFSI MAN. 6V 140KW ...</td>\n",
       "    </tr>\n",
       "    <tr>\n",
       "      <th>372</th>\n",
       "      <td>Audi A3 CABRIOLET MY18 2.0 TFSI MAN. 6V 140KW ...</td>\n",
       "    </tr>\n",
       "    <tr>\n",
       "      <th>374</th>\n",
       "      <td>Audi A3 CABRIOLET MY18 2.0 TFSI MAN. 6V 140KW ...</td>\n",
       "    </tr>\n",
       "    <tr>\n",
       "      <th>376</th>\n",
       "      <td>Audi A3 CABRIOLET MY18 2.0 TFSI MAN. 6V 140KW ...</td>\n",
       "    </tr>\n",
       "    <tr>\n",
       "      <th>...</th>\n",
       "      <td>...</td>\n",
       "    </tr>\n",
       "    <tr>\n",
       "      <th>18804</th>\n",
       "      <td>Volvo Trucks FM 62TR3HA</td>\n",
       "    </tr>\n",
       "    <tr>\n",
       "      <th>18806</th>\n",
       "      <td>Volvo Trucks FM 62TT3HA</td>\n",
       "    </tr>\n",
       "    <tr>\n",
       "      <th>18808</th>\n",
       "      <td>Volvo Trucks FM 64R3HA</td>\n",
       "    </tr>\n",
       "    <tr>\n",
       "      <th>18810</th>\n",
       "      <td>Volvo Trucks FM 64T3HA</td>\n",
       "    </tr>\n",
       "    <tr>\n",
       "      <th>19037</th>\n",
       "      <td>Volvo V60 Twin Engine D6 TWIN MY16</td>\n",
       "    </tr>\n",
       "  </tbody>\n",
       "</table>\n",
       "<p>729 rows × 1 columns</p>\n",
       "</div>"
      ],
      "text/plain": [
       "                                                  Nombre\n",
       "183                Alfa Romeo Stelvio 2.2 210 CV AT8 AWD\n",
       "370    Audi A3 CABRIOLET MY18 2.0 TFSI MAN. 6V 140KW ...\n",
       "372    Audi A3 CABRIOLET MY18 2.0 TFSI MAN. 6V 140KW ...\n",
       "374    Audi A3 CABRIOLET MY18 2.0 TFSI MAN. 6V 140KW ...\n",
       "376    Audi A3 CABRIOLET MY18 2.0 TFSI MAN. 6V 140KW ...\n",
       "...                                                  ...\n",
       "18804                            Volvo Trucks FM 62TR3HA\n",
       "18806                            Volvo Trucks FM 62TT3HA\n",
       "18808                             Volvo Trucks FM 64R3HA\n",
       "18810                             Volvo Trucks FM 64T3HA\n",
       "19037                 Volvo V60 Twin Engine D6 TWIN MY16\n",
       "\n",
       "[729 rows x 1 columns]"
      ]
     },
     "execution_count": 56,
     "metadata": {},
     "output_type": "execute_result"
    }
   ],
   "source": [
    "df_titles[df_titles.duplicated(['Nombre'])]\n",
    " "
   ]
  },
  {
   "cell_type": "code",
   "execution_count": 57,
   "metadata": {},
   "outputs": [
    {
     "data": {
      "text/html": [
       "<div>\n",
       "<style scoped>\n",
       "    .dataframe tbody tr th:only-of-type {\n",
       "        vertical-align: middle;\n",
       "    }\n",
       "\n",
       "    .dataframe tbody tr th {\n",
       "        vertical-align: top;\n",
       "    }\n",
       "\n",
       "    .dataframe thead th {\n",
       "        text-align: right;\n",
       "    }\n",
       "</style>\n",
       "<table border=\"1\" class=\"dataframe\">\n",
       "  <thead>\n",
       "    <tr style=\"text-align: right;\">\n",
       "      <th></th>\n",
       "      <th>Nombre</th>\n",
       "    </tr>\n",
       "  </thead>\n",
       "  <tbody>\n",
       "    <tr>\n",
       "      <th>182</th>\n",
       "      <td>Alfa Romeo Stelvio 2.2 210 CV AT8 AWD</td>\n",
       "    </tr>\n",
       "    <tr>\n",
       "      <th>183</th>\n",
       "      <td>Alfa Romeo Stelvio 2.2 210 CV AT8 AWD</td>\n",
       "    </tr>\n",
       "  </tbody>\n",
       "</table>\n",
       "</div>"
      ],
      "text/plain": [
       "                                    Nombre\n",
       "182  Alfa Romeo Stelvio 2.2 210 CV AT8 AWD\n",
       "183  Alfa Romeo Stelvio 2.2 210 CV AT8 AWD"
      ]
     },
     "execution_count": 57,
     "metadata": {},
     "output_type": "execute_result"
    }
   ],
   "source": [
    "df_titles[df_titles['Nombre'] == 'Alfa Romeo Stelvio 2.2 210 CV AT8 AWD']"
   ]
  },
  {
   "cell_type": "code",
   "execution_count": null,
   "metadata": {},
   "outputs": [],
   "source": []
  }
 ],
 "metadata": {
  "kernelspec": {
   "display_name": "cars_data",
   "language": "python",
   "name": "cars_data"
  },
  "language_info": {
   "codemirror_mode": {
    "name": "ipython",
    "version": 3
   },
   "file_extension": ".py",
   "mimetype": "text/x-python",
   "name": "python",
   "nbconvert_exporter": "python",
   "pygments_lexer": "ipython3",
   "version": "3.7.5"
  }
 },
 "nbformat": 4,
 "nbformat_minor": 2
}
