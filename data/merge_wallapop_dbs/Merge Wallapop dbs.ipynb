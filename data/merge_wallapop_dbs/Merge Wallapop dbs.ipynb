{
 "cells": [
  {
   "cell_type": "code",
   "execution_count": 1,
   "metadata": {},
   "outputs": [],
   "source": [
    "import pandas as pd\n",
    "import os\n",
    "from pathlib import Path\n",
    "from sqlalchemy import create_engine"
   ]
  },
  {
   "cell_type": "code",
   "execution_count": 31,
   "metadata": {},
   "outputs": [
    {
     "name": "stdout",
     "output_type": "stream",
     "text": [
      "wallapop_merged.db -> 912\n"
     ]
    }
   ],
   "source": [
    "db_merged = 'wallapop_merged.db'\n",
    "\n",
    "def delete_if_db_exists():\n",
    "    if os.path.isfile(f'{db_merged}'):\n",
    "        os.remove(f'{db_merged}')\n",
    "\n",
    "def create_db_list():\n",
    "    dbs_files = sorted(Path().glob('*.db'))\n",
    "    dbs_list = [db.name for db in dbs_files]\n",
    "    return dbs_list\n",
    "\n",
    "\n",
    "def add_databases_to_dataframe(dbs_list):\n",
    "    df_list = []\n",
    "    for i, db in enumerate(dbs_list):\n",
    "        if db != db_merged:\n",
    "            current_engine = create_engine(f'sqlite:///{db}')\n",
    "            current_df = pd.read_sql('cars', current_engine)\n",
    "            df_list.append(current_df)\n",
    "    \n",
    "    merged_df = pd.concat(df_list)\n",
    "    merged_df = merged_df.drop_duplicates()\n",
    "    print(f'{db_merged} -> {len(merged_df)}')\n",
    "    return merged_df\n",
    "\n",
    "\n",
    "def export_db(merged_df):\n",
    "    engine = create_engine(f'sqlite:///{db_merged}')\n",
    "    merged_df.to_sql('cars', engine, index=False)\n",
    "\n",
    "\n",
    "def main():\n",
    "    delete_if_db_exists()\n",
    "    dbs_list = create_db_list()\n",
    "    merged_df = add_databases_to_dataframe(dbs_list)\n",
    "    export_db(merged_df)\n",
    "    \n",
    "\n",
    "main()"
   ]
  },
  {
   "cell_type": "code",
   "execution_count": null,
   "metadata": {},
   "outputs": [],
   "source": []
  },
  {
   "cell_type": "code",
   "execution_count": null,
   "metadata": {},
   "outputs": [],
   "source": []
  },
  {
   "cell_type": "code",
   "execution_count": null,
   "metadata": {},
   "outputs": [],
   "source": []
  }
 ],
 "metadata": {
  "kernelspec": {
   "display_name": "cars_data",
   "language": "python",
   "name": "cars_data"
  },
  "language_info": {
   "codemirror_mode": {
    "name": "ipython",
    "version": 3
   },
   "file_extension": ".py",
   "mimetype": "text/x-python",
   "name": "python",
   "nbconvert_exporter": "python",
   "pygments_lexer": "ipython3",
   "version": "3.7.5"
  }
 },
 "nbformat": 4,
 "nbformat_minor": 2
}
