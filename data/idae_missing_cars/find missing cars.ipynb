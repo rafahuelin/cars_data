{
 "cells": [
  {
   "cell_type": "markdown",
   "metadata": {},
   "source": [
    "#### Data of cars that haven't been downloaded from IDAE. Get this cars in order to scrape their data."
   ]
  },
  {
   "cell_type": "code",
   "execution_count": null,
   "metadata": {},
   "outputs": [],
   "source": [
    "import pandas as pd\n",
    "from sqlalchemy import create_engine\n",
    "\n",
    "engine_titles = create_engine('sqlite:///idae_titles.db')\n",
    "engine_merged = create_engine('sqlite:///merged_idae.db')\n",
    "\n",
    "df_titles = pd.read_sql('cars', engine_titles)\n",
    "df_merged = pd.read_sql('cars', engine_merged)"
   ]
  },
  {
   "cell_type": "code",
   "execution_count": 2,
   "metadata": {},
   "outputs": [],
   "source": [
    "not_in_titles = df_titles[~df_titles['Nombre'].isin(df_merged['Nombre'])]"
   ]
  },
  {
   "cell_type": "code",
   "execution_count": 3,
   "metadata": {},
   "outputs": [
    {
     "data": {
      "text/html": [
       "<div>\n",
       "<style scoped>\n",
       "    .dataframe tbody tr th:only-of-type {\n",
       "        vertical-align: middle;\n",
       "    }\n",
       "\n",
       "    .dataframe tbody tr th {\n",
       "        vertical-align: top;\n",
       "    }\n",
       "\n",
       "    .dataframe thead th {\n",
       "        text-align: right;\n",
       "    }\n",
       "</style>\n",
       "<table border=\"1\" class=\"dataframe\">\n",
       "  <thead>\n",
       "    <tr style=\"text-align: right;\">\n",
       "      <th></th>\n",
       "      <th>Nombre</th>\n",
       "    </tr>\n",
       "  </thead>\n",
       "  <tbody>\n",
       "    <tr>\n",
       "      <th>872</th>\n",
       "      <td>Audi A5 SPORTBACK MY18 2.0 TDI MAN. 6V 140KW (...</td>\n",
       "    </tr>\n",
       "    <tr>\n",
       "      <th>1436</th>\n",
       "      <td>BMW M4 Coupe M4 Automatico (F82) (CO2 194) (3R...</td>\n",
       "    </tr>\n",
       "    <tr>\n",
       "      <th>1437</th>\n",
       "      <td>BMW M4 Coupe M4 Automatico (F82) (CO2 194) (3R...</td>\n",
       "    </tr>\n",
       "    <tr>\n",
       "      <th>1438</th>\n",
       "      <td>BMW M4 GTS Coupe M4 GTS Automatico (F82) (CO2 ...</td>\n",
       "    </tr>\n",
       "    <tr>\n",
       "      <th>1827</th>\n",
       "      <td>BMW Serie 2 Cabrio 228i Grupo 1 (F23) (CO2 159...</td>\n",
       "    </tr>\n",
       "    <tr>\n",
       "      <th>...</th>\n",
       "      <td>...</td>\n",
       "    </tr>\n",
       "    <tr>\n",
       "      <th>19233</th>\n",
       "      <td>ZD D2S 0,1</td>\n",
       "    </tr>\n",
       "    <tr>\n",
       "      <th>19234</th>\n",
       "      <td>ZERO MOTORCYCLES DS ZF11Kw</td>\n",
       "    </tr>\n",
       "    <tr>\n",
       "      <th>19235</th>\n",
       "      <td>ZERO MOTORCYCLES FX ZF6.5</td>\n",
       "    </tr>\n",
       "    <tr>\n",
       "      <th>19236</th>\n",
       "      <td>ZERO MOTORCYCLES FXS ZF11Kw</td>\n",
       "    </tr>\n",
       "    <tr>\n",
       "      <th>19237</th>\n",
       "      <td>ZERO MOTORCYCLES S ZF11Kw</td>\n",
       "    </tr>\n",
       "  </tbody>\n",
       "</table>\n",
       "<p>306 rows × 1 columns</p>\n",
       "</div>"
      ],
      "text/plain": [
       "                                                  Nombre\n",
       "872    Audi A5 SPORTBACK MY18 2.0 TDI MAN. 6V 140KW (...\n",
       "1436   BMW M4 Coupe M4 Automatico (F82) (CO2 194) (3R...\n",
       "1437   BMW M4 Coupe M4 Automatico (F82) (CO2 194) (3R...\n",
       "1438   BMW M4 GTS Coupe M4 GTS Automatico (F82) (CO2 ...\n",
       "1827   BMW Serie 2 Cabrio 228i Grupo 1 (F23) (CO2 159...\n",
       "...                                                  ...\n",
       "19233                                         ZD D2S 0,1\n",
       "19234                         ZERO MOTORCYCLES DS ZF11Kw\n",
       "19235                          ZERO MOTORCYCLES FX ZF6.5\n",
       "19236                        ZERO MOTORCYCLES FXS ZF11Kw\n",
       "19237                          ZERO MOTORCYCLES S ZF11Kw\n",
       "\n",
       "[306 rows x 1 columns]"
      ]
     },
     "execution_count": 3,
     "metadata": {},
     "output_type": "execute_result"
    }
   ],
   "source": [
    "not_in_titles"
   ]
  },
  {
   "cell_type": "code",
   "execution_count": 4,
   "metadata": {},
   "outputs": [],
   "source": [
    "not_in_titles.to_excel('not_in_titles.xlsx')"
   ]
  },
  {
   "cell_type": "code",
   "execution_count": 3,
   "metadata": {},
   "outputs": [],
   "source": [
    "not_in_titles.to_csv('not_in_titles.csv')"
   ]
  },
  {
   "cell_type": "code",
   "execution_count": 5,
   "metadata": {},
   "outputs": [],
   "source": [
    "df = pd.read_csv('not_in_titles.csv')"
   ]
  },
  {
   "cell_type": "code",
   "execution_count": 6,
   "metadata": {},
   "outputs": [
    {
     "data": {
      "text/html": [
       "<div>\n",
       "<style scoped>\n",
       "    .dataframe tbody tr th:only-of-type {\n",
       "        vertical-align: middle;\n",
       "    }\n",
       "\n",
       "    .dataframe tbody tr th {\n",
       "        vertical-align: top;\n",
       "    }\n",
       "\n",
       "    .dataframe thead th {\n",
       "        text-align: right;\n",
       "    }\n",
       "</style>\n",
       "<table border=\"1\" class=\"dataframe\">\n",
       "  <thead>\n",
       "    <tr style=\"text-align: right;\">\n",
       "      <th></th>\n",
       "      <th>Unnamed: 0</th>\n",
       "      <th>Nombre</th>\n",
       "    </tr>\n",
       "  </thead>\n",
       "  <tbody>\n",
       "    <tr>\n",
       "      <th>0</th>\n",
       "      <td>872</td>\n",
       "      <td>Audi A5 SPORTBACK MY18 2.0 TDI MAN. 6V 140KW (...</td>\n",
       "    </tr>\n",
       "    <tr>\n",
       "      <th>1</th>\n",
       "      <td>1436</td>\n",
       "      <td>BMW M4 Coupe M4 Automatico (F82) (CO2 194) (3R...</td>\n",
       "    </tr>\n",
       "    <tr>\n",
       "      <th>2</th>\n",
       "      <td>1437</td>\n",
       "      <td>BMW M4 Coupe M4 Automatico (F82) (CO2 194) (3R...</td>\n",
       "    </tr>\n",
       "    <tr>\n",
       "      <th>3</th>\n",
       "      <td>1438</td>\n",
       "      <td>BMW M4 GTS Coupe M4 GTS Automatico (F82) (CO2 ...</td>\n",
       "    </tr>\n",
       "    <tr>\n",
       "      <th>4</th>\n",
       "      <td>1827</td>\n",
       "      <td>BMW Serie 2 Cabrio 228i Grupo 1 (F23) (CO2 159...</td>\n",
       "    </tr>\n",
       "  </tbody>\n",
       "</table>\n",
       "</div>"
      ],
      "text/plain": [
       "   Unnamed: 0                                             Nombre\n",
       "0         872  Audi A5 SPORTBACK MY18 2.0 TDI MAN. 6V 140KW (...\n",
       "1        1436  BMW M4 Coupe M4 Automatico (F82) (CO2 194) (3R...\n",
       "2        1437  BMW M4 Coupe M4 Automatico (F82) (CO2 194) (3R...\n",
       "3        1438  BMW M4 GTS Coupe M4 GTS Automatico (F82) (CO2 ...\n",
       "4        1827  BMW Serie 2 Cabrio 228i Grupo 1 (F23) (CO2 159..."
      ]
     },
     "execution_count": 6,
     "metadata": {},
     "output_type": "execute_result"
    }
   ],
   "source": [
    "df.head()"
   ]
  }
 ],
 "metadata": {
  "kernelspec": {
   "display_name": "cars_data",
   "language": "python",
   "name": "cars_data"
  },
  "language_info": {
   "codemirror_mode": {
    "name": "ipython",
    "version": 3
   },
   "file_extension": ".py",
   "mimetype": "text/x-python",
   "name": "python",
   "nbconvert_exporter": "python",
   "pygments_lexer": "ipython3",
   "version": "3.7.5"
  }
 },
 "nbformat": 4,
 "nbformat_minor": 2
}
