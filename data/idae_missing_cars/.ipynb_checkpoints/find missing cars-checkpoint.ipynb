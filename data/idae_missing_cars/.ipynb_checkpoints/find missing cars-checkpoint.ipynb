{
 "cells": [
  {
   "cell_type": "code",
   "execution_count": 1,
   "metadata": {},
   "outputs": [],
   "source": [
    "import pandas as pd\n",
    "from sqlalchemy import create_engine\n",
    "\n",
    "engine_titles = create_engine('sqlite:///idae_titles.db')\n",
    "engine_merged = create_engine('sqlite:///merged_idae.db')\n",
    "\n",
    "df_titles = pd.read_sql('cars', engine_titles)\n",
    "df_merged = pd.read_sql('cars', engine_merged)"
   ]
  },
  {
   "cell_type": "code",
   "execution_count": 2,
   "metadata": {},
   "outputs": [],
   "source": [
    "not_in_titles = df_titles[~df_titles['Nombre'].isin(df_merged['Nombre'])]"
   ]
  },
  {
   "cell_type": "code",
   "execution_count": 3,
   "metadata": {},
   "outputs": [
    {
     "data": {
      "text/html": [
       "<div>\n",
       "<style scoped>\n",
       "    .dataframe tbody tr th:only-of-type {\n",
       "        vertical-align: middle;\n",
       "    }\n",
       "\n",
       "    .dataframe tbody tr th {\n",
       "        vertical-align: top;\n",
       "    }\n",
       "\n",
       "    .dataframe thead th {\n",
       "        text-align: right;\n",
       "    }\n",
       "</style>\n",
       "<table border=\"1\" class=\"dataframe\">\n",
       "  <thead>\n",
       "    <tr style=\"text-align: right;\">\n",
       "      <th></th>\n",
       "      <th>Nombre</th>\n",
       "    </tr>\n",
       "  </thead>\n",
       "  <tbody>\n",
       "    <tr>\n",
       "      <th>872</th>\n",
       "      <td>Audi A5 SPORTBACK MY18 2.0 TDI MAN. 6V 140KW (...</td>\n",
       "    </tr>\n",
       "    <tr>\n",
       "      <th>1436</th>\n",
       "      <td>BMW M4 Coupe M4 Automatico (F82) (CO2 194) (3R...</td>\n",
       "    </tr>\n",
       "    <tr>\n",
       "      <th>1437</th>\n",
       "      <td>BMW M4 Coupe M4 Automatico (F82) (CO2 194) (3R...</td>\n",
       "    </tr>\n",
       "    <tr>\n",
       "      <th>1438</th>\n",
       "      <td>BMW M4 GTS Coupe M4 GTS Automatico (F82) (CO2 ...</td>\n",
       "    </tr>\n",
       "    <tr>\n",
       "      <th>1827</th>\n",
       "      <td>BMW Serie 2 Cabrio 228i Grupo 1 (F23) (CO2 159...</td>\n",
       "    </tr>\n",
       "    <tr>\n",
       "      <th>...</th>\n",
       "      <td>...</td>\n",
       "    </tr>\n",
       "    <tr>\n",
       "      <th>19233</th>\n",
       "      <td>ZD D2S 0,1</td>\n",
       "    </tr>\n",
       "    <tr>\n",
       "      <th>19234</th>\n",
       "      <td>ZERO MOTORCYCLES DS ZF11Kw</td>\n",
       "    </tr>\n",
       "    <tr>\n",
       "      <th>19235</th>\n",
       "      <td>ZERO MOTORCYCLES FX ZF6.5</td>\n",
       "    </tr>\n",
       "    <tr>\n",
       "      <th>19236</th>\n",
       "      <td>ZERO MOTORCYCLES FXS ZF11Kw</td>\n",
       "    </tr>\n",
       "    <tr>\n",
       "      <th>19237</th>\n",
       "      <td>ZERO MOTORCYCLES S ZF11Kw</td>\n",
       "    </tr>\n",
       "  </tbody>\n",
       "</table>\n",
       "<p>306 rows × 1 columns</p>\n",
       "</div>"
      ],
      "text/plain": [
       "                                                  Nombre\n",
       "872    Audi A5 SPORTBACK MY18 2.0 TDI MAN. 6V 140KW (...\n",
       "1436   BMW M4 Coupe M4 Automatico (F82) (CO2 194) (3R...\n",
       "1437   BMW M4 Coupe M4 Automatico (F82) (CO2 194) (3R...\n",
       "1438   BMW M4 GTS Coupe M4 GTS Automatico (F82) (CO2 ...\n",
       "1827   BMW Serie 2 Cabrio 228i Grupo 1 (F23) (CO2 159...\n",
       "...                                                  ...\n",
       "19233                                         ZD D2S 0,1\n",
       "19234                         ZERO MOTORCYCLES DS ZF11Kw\n",
       "19235                          ZERO MOTORCYCLES FX ZF6.5\n",
       "19236                        ZERO MOTORCYCLES FXS ZF11Kw\n",
       "19237                          ZERO MOTORCYCLES S ZF11Kw\n",
       "\n",
       "[306 rows x 1 columns]"
      ]
     },
     "execution_count": 3,
     "metadata": {},
     "output_type": "execute_result"
    }
   ],
   "source": [
    "not_in_titles"
   ]
  },
  {
   "cell_type": "code",
   "execution_count": 4,
   "metadata": {},
   "outputs": [],
   "source": [
    "not_in_titles.to_excel('not_in_titles.xlsx')"
   ]
  },
  {
   "cell_type": "code",
   "execution_count": 3,
   "metadata": {},
   "outputs": [],
   "source": [
    "not_in_titles.to_csv('not_in_titles.csv')"
   ]
  },
  {
   "cell_type": "code",
   "execution_count": 5,
   "metadata": {},
   "outputs": [],
   "source": [
    "df = pd.read_csv('not_in_titles.csv')"
   ]
  },
  {
   "cell_type": "code",
   "execution_count": 6,
   "metadata": {},
   "outputs": [
    {
     "data": {
      "text/html": [
       "<div>\n",
       "<style scoped>\n",
       "    .dataframe tbody tr th:only-of-type {\n",
       "        vertical-align: middle;\n",
       "    }\n",
       "\n",
       "    .dataframe tbody tr th {\n",
       "        vertical-align: top;\n",
       "    }\n",
       "\n",
       "    .dataframe thead th {\n",
       "        text-align: right;\n",
       "    }\n",
       "</style>\n",
       "<table border=\"1\" class=\"dataframe\">\n",
       "  <thead>\n",
       "    <tr style=\"text-align: right;\">\n",
       "      <th></th>\n",
       "      <th>Unnamed: 0</th>\n",
       "      <th>Nombre</th>\n",
       "    </tr>\n",
       "  </thead>\n",
       "  <tbody>\n",
       "    <tr>\n",
       "      <th>0</th>\n",
       "      <td>872</td>\n",
       "      <td>Audi A5 SPORTBACK MY18 2.0 TDI MAN. 6V 140KW (...</td>\n",
       "    </tr>\n",
       "    <tr>\n",
       "      <th>1</th>\n",
       "      <td>1436</td>\n",
       "      <td>BMW M4 Coupe M4 Automatico (F82) (CO2 194) (3R...</td>\n",
       "    </tr>\n",
       "    <tr>\n",
       "      <th>2</th>\n",
       "      <td>1437</td>\n",
       "      <td>BMW M4 Coupe M4 Automatico (F82) (CO2 194) (3R...</td>\n",
       "    </tr>\n",
       "    <tr>\n",
       "      <th>3</th>\n",
       "      <td>1438</td>\n",
       "      <td>BMW M4 GTS Coupe M4 GTS Automatico (F82) (CO2 ...</td>\n",
       "    </tr>\n",
       "    <tr>\n",
       "      <th>4</th>\n",
       "      <td>1827</td>\n",
       "      <td>BMW Serie 2 Cabrio 228i Grupo 1 (F23) (CO2 159...</td>\n",
       "    </tr>\n",
       "  </tbody>\n",
       "</table>\n",
       "</div>"
      ],
      "text/plain": [
       "   Unnamed: 0                                             Nombre\n",
       "0         872  Audi A5 SPORTBACK MY18 2.0 TDI MAN. 6V 140KW (...\n",
       "1        1436  BMW M4 Coupe M4 Automatico (F82) (CO2 194) (3R...\n",
       "2        1437  BMW M4 Coupe M4 Automatico (F82) (CO2 194) (3R...\n",
       "3        1438  BMW M4 GTS Coupe M4 GTS Automatico (F82) (CO2 ...\n",
       "4        1827  BMW Serie 2 Cabrio 228i Grupo 1 (F23) (CO2 159..."
      ]
     },
     "execution_count": 6,
     "metadata": {},
     "output_type": "execute_result"
    }
   ],
   "source": [
    "df.head()"
   ]
  },
  {
   "cell_type": "code",
   "execution_count": 8,
   "metadata": {},
   "outputs": [
    {
     "ename": "KeyError",
     "evalue": "\"None of [Index(['Abarth 124 SPIDER Abarth 124 Spider MultiAir 125 kW (170 CV)',\\n       'Abarth 595 ABARTH 595 1.4 16v T-JET 107 KW (145 CV) E6D',\\n       'Abarth 595C ABARTH 595C 1.4 16v T-JET 107 KW (145 CV) E6D',\\n       'Abarth COMPETIZIONE ABARTH 595 COMPETIZIONE 1.4 16v T-JET 132 KW (180 CV) E6D',\\n       'Abarth COMPETIZIONE C ABARTH 595C COMPETIZIONE 1.4 16v T-JET 132 KW (180 CV) E6D',\\n       'Abarth TURISMO ABARTH 595 TURISMO 1.4 16v T-JET 121 kW (165 CV) E6D',\\n       'Abarth TURISMO C ABARTH 595C TURISMO 1.4 16v T-JET 121 KW (165 CV) E6D',\\n       'Aixam eAIXAM SENSATION City Pack',\\n       'Aixam eAIXAM SENSATION City Premium',\\n       'Aixam eAIXAM SENSATION Coupé GTI',\\n       ...\\n       'Volvo XC90 T8 TWIN R-Design MY17 Aut',\\n       'XINYANG XY75DAUTV-2 XY75DAUTV-2',\\n       'YANGZHOU AUDA NEW ENERGY VEHICLES CO. LTD IEV7S B',\\n       'YANGZHOU AUDA NEW ENERGY VEHICLES CO. LTD LITE-ev1013 Elec',\\n       'ZD D2 0,1', 'ZD D2S 0,1', 'ZERO MOTORCYCLES DS ZF11Kw',\\n       'ZERO MOTORCYCLES FX ZF6.5', 'ZERO MOTORCYCLES FXS ZF11Kw',\\n       'ZERO MOTORCYCLES S ZF11Kw'],\\n      dtype='object', length=19238)] are in the [columns]\"",
     "output_type": "error",
     "traceback": [
      "\u001b[1;31m---------------------------------------------------------------------------\u001b[0m",
      "\u001b[1;31mKeyError\u001b[0m                                  Traceback (most recent call last)",
      "\u001b[1;32m<ipython-input-8-1061d1c3bb70>\u001b[0m in \u001b[0;36m<module>\u001b[1;34m\u001b[0m\n\u001b[0;32m      1\u001b[0m \u001b[0mcar_text\u001b[0m \u001b[1;33m=\u001b[0m \u001b[1;34m'Abarth 124 SPIDER Abarth 124 Spider MultiAir 125 kW (170 CV)'\u001b[0m\u001b[1;33m\u001b[0m\u001b[1;33m\u001b[0m\u001b[0m\n\u001b[1;32m----> 2\u001b[1;33m \u001b[1;32mif\u001b[0m \u001b[0mcar_text\u001b[0m \u001b[1;32min\u001b[0m \u001b[0mdf_titles\u001b[0m\u001b[1;33m[\u001b[0m\u001b[0mdf_titles\u001b[0m\u001b[1;33m[\u001b[0m\u001b[1;34m'Nombre'\u001b[0m\u001b[1;33m]\u001b[0m\u001b[1;33m]\u001b[0m\u001b[1;33m:\u001b[0m\u001b[1;33m\u001b[0m\u001b[1;33m\u001b[0m\u001b[0m\n\u001b[0m\u001b[0;32m      3\u001b[0m     \u001b[0mprint\u001b[0m\u001b[1;33m(\u001b[0m\u001b[1;34m'Yesssssss'\u001b[0m\u001b[1;33m)\u001b[0m\u001b[1;33m\u001b[0m\u001b[1;33m\u001b[0m\u001b[0m\n\u001b[0;32m      4\u001b[0m \u001b[1;32melse\u001b[0m\u001b[1;33m:\u001b[0m\u001b[1;33m\u001b[0m\u001b[1;33m\u001b[0m\u001b[0m\n\u001b[0;32m      5\u001b[0m     \u001b[0mprint\u001b[0m\u001b[1;33m(\u001b[0m\u001b[1;34m'wawawaaa'\u001b[0m\u001b[1;33m)\u001b[0m\u001b[1;33m\u001b[0m\u001b[1;33m\u001b[0m\u001b[0m\n",
      "\u001b[1;32mD:\\Projects\\Python\\cars_data\\.venv\\lib\\site-packages\\pandas\\core\\frame.py\u001b[0m in \u001b[0;36m__getitem__\u001b[1;34m(self, key)\u001b[0m\n\u001b[0;32m   2999\u001b[0m             \u001b[1;32mif\u001b[0m \u001b[0mis_iterator\u001b[0m\u001b[1;33m(\u001b[0m\u001b[0mkey\u001b[0m\u001b[1;33m)\u001b[0m\u001b[1;33m:\u001b[0m\u001b[1;33m\u001b[0m\u001b[1;33m\u001b[0m\u001b[0m\n\u001b[0;32m   3000\u001b[0m                 \u001b[0mkey\u001b[0m \u001b[1;33m=\u001b[0m \u001b[0mlist\u001b[0m\u001b[1;33m(\u001b[0m\u001b[0mkey\u001b[0m\u001b[1;33m)\u001b[0m\u001b[1;33m\u001b[0m\u001b[1;33m\u001b[0m\u001b[0m\n\u001b[1;32m-> 3001\u001b[1;33m             \u001b[0mindexer\u001b[0m \u001b[1;33m=\u001b[0m \u001b[0mself\u001b[0m\u001b[1;33m.\u001b[0m\u001b[0mloc\u001b[0m\u001b[1;33m.\u001b[0m\u001b[0m_convert_to_indexer\u001b[0m\u001b[1;33m(\u001b[0m\u001b[0mkey\u001b[0m\u001b[1;33m,\u001b[0m \u001b[0maxis\u001b[0m\u001b[1;33m=\u001b[0m\u001b[1;36m1\u001b[0m\u001b[1;33m,\u001b[0m \u001b[0mraise_missing\u001b[0m\u001b[1;33m=\u001b[0m\u001b[1;32mTrue\u001b[0m\u001b[1;33m)\u001b[0m\u001b[1;33m\u001b[0m\u001b[1;33m\u001b[0m\u001b[0m\n\u001b[0m\u001b[0;32m   3002\u001b[0m \u001b[1;33m\u001b[0m\u001b[0m\n\u001b[0;32m   3003\u001b[0m         \u001b[1;31m# take() does not accept boolean indexers\u001b[0m\u001b[1;33m\u001b[0m\u001b[1;33m\u001b[0m\u001b[1;33m\u001b[0m\u001b[0m\n",
      "\u001b[1;32mD:\\Projects\\Python\\cars_data\\.venv\\lib\\site-packages\\pandas\\core\\indexing.py\u001b[0m in \u001b[0;36m_convert_to_indexer\u001b[1;34m(self, obj, axis, is_setter, raise_missing)\u001b[0m\n\u001b[0;32m   1283\u001b[0m                 \u001b[1;31m# When setting, missing keys are not allowed, even with .loc:\u001b[0m\u001b[1;33m\u001b[0m\u001b[1;33m\u001b[0m\u001b[1;33m\u001b[0m\u001b[0m\n\u001b[0;32m   1284\u001b[0m                 \u001b[0mkwargs\u001b[0m \u001b[1;33m=\u001b[0m \u001b[1;33m{\u001b[0m\u001b[1;34m\"raise_missing\"\u001b[0m\u001b[1;33m:\u001b[0m \u001b[1;32mTrue\u001b[0m \u001b[1;32mif\u001b[0m \u001b[0mis_setter\u001b[0m \u001b[1;32melse\u001b[0m \u001b[0mraise_missing\u001b[0m\u001b[1;33m}\u001b[0m\u001b[1;33m\u001b[0m\u001b[1;33m\u001b[0m\u001b[0m\n\u001b[1;32m-> 1285\u001b[1;33m                 \u001b[1;32mreturn\u001b[0m \u001b[0mself\u001b[0m\u001b[1;33m.\u001b[0m\u001b[0m_get_listlike_indexer\u001b[0m\u001b[1;33m(\u001b[0m\u001b[0mobj\u001b[0m\u001b[1;33m,\u001b[0m \u001b[0maxis\u001b[0m\u001b[1;33m,\u001b[0m \u001b[1;33m**\u001b[0m\u001b[0mkwargs\u001b[0m\u001b[1;33m)\u001b[0m\u001b[1;33m[\u001b[0m\u001b[1;36m1\u001b[0m\u001b[1;33m]\u001b[0m\u001b[1;33m\u001b[0m\u001b[1;33m\u001b[0m\u001b[0m\n\u001b[0m\u001b[0;32m   1286\u001b[0m         \u001b[1;32melse\u001b[0m\u001b[1;33m:\u001b[0m\u001b[1;33m\u001b[0m\u001b[1;33m\u001b[0m\u001b[0m\n\u001b[0;32m   1287\u001b[0m             \u001b[1;32mtry\u001b[0m\u001b[1;33m:\u001b[0m\u001b[1;33m\u001b[0m\u001b[1;33m\u001b[0m\u001b[0m\n",
      "\u001b[1;32mD:\\Projects\\Python\\cars_data\\.venv\\lib\\site-packages\\pandas\\core\\indexing.py\u001b[0m in \u001b[0;36m_get_listlike_indexer\u001b[1;34m(self, key, axis, raise_missing)\u001b[0m\n\u001b[0;32m   1090\u001b[0m \u001b[1;33m\u001b[0m\u001b[0m\n\u001b[0;32m   1091\u001b[0m         self._validate_read_indexer(\n\u001b[1;32m-> 1092\u001b[1;33m             \u001b[0mkeyarr\u001b[0m\u001b[1;33m,\u001b[0m \u001b[0mindexer\u001b[0m\u001b[1;33m,\u001b[0m \u001b[0mo\u001b[0m\u001b[1;33m.\u001b[0m\u001b[0m_get_axis_number\u001b[0m\u001b[1;33m(\u001b[0m\u001b[0maxis\u001b[0m\u001b[1;33m)\u001b[0m\u001b[1;33m,\u001b[0m \u001b[0mraise_missing\u001b[0m\u001b[1;33m=\u001b[0m\u001b[0mraise_missing\u001b[0m\u001b[1;33m\u001b[0m\u001b[1;33m\u001b[0m\u001b[0m\n\u001b[0m\u001b[0;32m   1093\u001b[0m         )\n\u001b[0;32m   1094\u001b[0m         \u001b[1;32mreturn\u001b[0m \u001b[0mkeyarr\u001b[0m\u001b[1;33m,\u001b[0m \u001b[0mindexer\u001b[0m\u001b[1;33m\u001b[0m\u001b[1;33m\u001b[0m\u001b[0m\n",
      "\u001b[1;32mD:\\Projects\\Python\\cars_data\\.venv\\lib\\site-packages\\pandas\\core\\indexing.py\u001b[0m in \u001b[0;36m_validate_read_indexer\u001b[1;34m(self, key, indexer, axis, raise_missing)\u001b[0m\n\u001b[0;32m   1175\u001b[0m                 raise KeyError(\n\u001b[0;32m   1176\u001b[0m                     \"None of [{key}] are in the [{axis}]\".format(\n\u001b[1;32m-> 1177\u001b[1;33m                         \u001b[0mkey\u001b[0m\u001b[1;33m=\u001b[0m\u001b[0mkey\u001b[0m\u001b[1;33m,\u001b[0m \u001b[0maxis\u001b[0m\u001b[1;33m=\u001b[0m\u001b[0mself\u001b[0m\u001b[1;33m.\u001b[0m\u001b[0mobj\u001b[0m\u001b[1;33m.\u001b[0m\u001b[0m_get_axis_name\u001b[0m\u001b[1;33m(\u001b[0m\u001b[0maxis\u001b[0m\u001b[1;33m)\u001b[0m\u001b[1;33m\u001b[0m\u001b[1;33m\u001b[0m\u001b[0m\n\u001b[0m\u001b[0;32m   1178\u001b[0m                     )\n\u001b[0;32m   1179\u001b[0m                 )\n",
      "\u001b[1;31mKeyError\u001b[0m: \"None of [Index(['Abarth 124 SPIDER Abarth 124 Spider MultiAir 125 kW (170 CV)',\\n       'Abarth 595 ABARTH 595 1.4 16v T-JET 107 KW (145 CV) E6D',\\n       'Abarth 595C ABARTH 595C 1.4 16v T-JET 107 KW (145 CV) E6D',\\n       'Abarth COMPETIZIONE ABARTH 595 COMPETIZIONE 1.4 16v T-JET 132 KW (180 CV) E6D',\\n       'Abarth COMPETIZIONE C ABARTH 595C COMPETIZIONE 1.4 16v T-JET 132 KW (180 CV) E6D',\\n       'Abarth TURISMO ABARTH 595 TURISMO 1.4 16v T-JET 121 kW (165 CV) E6D',\\n       'Abarth TURISMO C ABARTH 595C TURISMO 1.4 16v T-JET 121 KW (165 CV) E6D',\\n       'Aixam eAIXAM SENSATION City Pack',\\n       'Aixam eAIXAM SENSATION City Premium',\\n       'Aixam eAIXAM SENSATION Coupé GTI',\\n       ...\\n       'Volvo XC90 T8 TWIN R-Design MY17 Aut',\\n       'XINYANG XY75DAUTV-2 XY75DAUTV-2',\\n       'YANGZHOU AUDA NEW ENERGY VEHICLES CO. LTD IEV7S B',\\n       'YANGZHOU AUDA NEW ENERGY VEHICLES CO. LTD LITE-ev1013 Elec',\\n       'ZD D2 0,1', 'ZD D2S 0,1', 'ZERO MOTORCYCLES DS ZF11Kw',\\n       'ZERO MOTORCYCLES FX ZF6.5', 'ZERO MOTORCYCLES FXS ZF11Kw',\\n       'ZERO MOTORCYCLES S ZF11Kw'],\\n      dtype='object', length=19238)] are in the [columns]\""
     ]
    }
   ],
   "source": [
    "car_text = 'Abarth 124 SPIDER Abarth 124 Spider MultiAir 125 kW (170 CV)'\n",
    "if car_text in df_titles['Nombre']:\n",
    "    print('Yesssssss')\n",
    "else:\n",
    "    print('wawawaaa')"
   ]
  },
  {
   "cell_type": "code",
   "execution_count": null,
   "metadata": {},
   "outputs": [],
   "source": []
  }
 ],
 "metadata": {
  "kernelspec": {
   "display_name": "cars_data",
   "language": "python",
   "name": "cars_data"
  },
  "language_info": {
   "codemirror_mode": {
    "name": "ipython",
    "version": 3
   },
   "file_extension": ".py",
   "mimetype": "text/x-python",
   "name": "python",
   "nbconvert_exporter": "python",
   "pygments_lexer": "ipython3",
   "version": "3.7.5"
  }
 },
 "nbformat": 4,
 "nbformat_minor": 2
}
