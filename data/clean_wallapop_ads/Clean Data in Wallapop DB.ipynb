{
 "cells": [
  {
   "cell_type": "code",
   "execution_count": 1,
   "metadata": {},
   "outputs": [],
   "source": [
    "import numpy as np\n",
    "import pandas as pd\n",
    "import ast\n",
    "import os\n",
    "from pathlib import Path\n",
    "from sqlalchemy import create_engine, MetaData"
   ]
  },
  {
   "cell_type": "code",
   "execution_count": 2,
   "metadata": {},
   "outputs": [],
   "source": [
    "# Load DBs\n",
    "manufacturers_engine = create_engine('sqlite:///manufacturers.db')\n",
    "wallapop_engine = create_engine('sqlite:///wallapop_merged.db')\n",
    "\n",
    "# print(manufacturers_engine.table_names())\n",
    "# print(wallapop_engine.table_names())"
   ]
  },
  {
   "cell_type": "code",
   "execution_count": 3,
   "metadata": {},
   "outputs": [
    {
     "data": {
      "text/plain": [
       "912"
      ]
     },
     "execution_count": 3,
     "metadata": {},
     "output_type": "execute_result"
    }
   ],
   "source": [
    "# Create dataframes\n",
    "df_manufacturers = pd.read_sql('manufacturer', manufacturers_engine)\n",
    "df_cars = pd.read_sql('cars', wallapop_engine)\n",
    "\n",
    "len(df_cars)\n",
    "# print(df_manufacturers.head())\n",
    "# print('-'*100)\n",
    "# print(df_cars.head())"
   ]
  },
  {
   "cell_type": "code",
   "execution_count": 4,
   "metadata": {},
   "outputs": [],
   "source": [
    "df_cars = df_cars.drop(columns=['Unnamed: 0', 'level_0', 'index', 'Financed Price', 'Warranty'])\n",
    "# print(df_cars.head())"
   ]
  },
  {
   "cell_type": "code",
   "execution_count": 5,
   "metadata": {},
   "outputs": [],
   "source": [
    "# Delete specific row\n",
    "df_cars = df_cars[df_cars['Url Id'] != 'www0a0a']"
   ]
  },
  {
   "cell_type": "code",
   "execution_count": 6,
   "metadata": {},
   "outputs": [],
   "source": [
    "# Remove trainling .0 , trailing € and . in between numbers\n",
    "df_cars['Price'] = df_cars['Price'].replace(' €$', '', regex=True)\n",
    "df_cars = df_cars.replace('\\.0$', '', regex=True)\n",
    "df_cars['Price'] = df_cars['Price'].replace('\\.', '', regex=True)\n",
    "\n",
    "# df_cars"
   ]
  },
  {
   "cell_type": "code",
   "execution_count": 7,
   "metadata": {},
   "outputs": [
    {
     "name": "stdout",
     "output_type": "stream",
     "text": [
      "911\n",
      "684\n"
     ]
    }
   ],
   "source": [
    "# Convert empty strings to NaN\n",
    "print(len(df_cars))\n",
    "df_cars = df_cars.replace('', np.nan)\n",
    "df_cars = df_cars.dropna(subset=['Mileage', 'Price', 'Gear', 'Doors', 'Seats', 'Fuel', 'City'])\n",
    "print(len(df_cars))"
   ]
  },
  {
   "cell_type": "code",
   "execution_count": 8,
   "metadata": {},
   "outputs": [],
   "source": [
    "# Check out if is any cell with a NaN value\n",
    "# df_cars[df_cars.isna().any(axis=1)]"
   ]
  },
  {
   "cell_type": "code",
   "execution_count": 9,
   "metadata": {
    "scrolled": true
   },
   "outputs": [
    {
     "name": "stdout",
     "output_type": "stream",
     "text": [
      "Index(['Item Id', 'Url Id', 'Manufacturer', 'Model', 'Price', 'Mileage',\n",
      "       'Year', 'Fuel', 'Gear', 'Doors', 'Seats', 'Province', 'City',\n",
      "       'Zip Code', 'Posted Date', 'Scraping Date', 'Url'],\n",
      "      dtype='object')\n"
     ]
    },
    {
     "data": {
      "text/html": [
       "<div>\n",
       "<style scoped>\n",
       "    .dataframe tbody tr th:only-of-type {\n",
       "        vertical-align: middle;\n",
       "    }\n",
       "\n",
       "    .dataframe tbody tr th {\n",
       "        vertical-align: top;\n",
       "    }\n",
       "\n",
       "    .dataframe thead th {\n",
       "        text-align: right;\n",
       "    }\n",
       "</style>\n",
       "<table border=\"1\" class=\"dataframe\">\n",
       "  <thead>\n",
       "    <tr style=\"text-align: right;\">\n",
       "      <th></th>\n",
       "      <th>Manufacturer</th>\n",
       "      <th>Model</th>\n",
       "      <th>Posted Date</th>\n",
       "      <th>Scraping Date</th>\n",
       "    </tr>\n",
       "  </thead>\n",
       "  <tbody>\n",
       "    <tr>\n",
       "      <th>2</th>\n",
       "      <td>Renault</td>\n",
       "      <td>Captur</td>\n",
       "      <td>2019-11-02</td>\n",
       "      <td>2019-11-02</td>\n",
       "    </tr>\n",
       "    <tr>\n",
       "      <th>4</th>\n",
       "      <td>SEAT</td>\n",
       "      <td>Ibiza</td>\n",
       "      <td>2019-11-02</td>\n",
       "      <td>2019-11-02</td>\n",
       "    </tr>\n",
       "    <tr>\n",
       "      <th>5</th>\n",
       "      <td>Peugeot</td>\n",
       "      <td>206</td>\n",
       "      <td>2019-11-02</td>\n",
       "      <td>2019-11-02</td>\n",
       "    </tr>\n",
       "    <tr>\n",
       "      <th>6</th>\n",
       "      <td>SEAT</td>\n",
       "      <td>Leon</td>\n",
       "      <td>2019-11-02</td>\n",
       "      <td>2019-11-02</td>\n",
       "    </tr>\n",
       "    <tr>\n",
       "      <th>8</th>\n",
       "      <td>Citroen</td>\n",
       "      <td>minicamper.pro</td>\n",
       "      <td>2019-11-02</td>\n",
       "      <td>2019-11-02</td>\n",
       "    </tr>\n",
       "    <tr>\n",
       "      <th>11</th>\n",
       "      <td>BMW</td>\n",
       "      <td>Serie 3</td>\n",
       "      <td>2019-11-03</td>\n",
       "      <td>2019-11-03</td>\n",
       "    </tr>\n",
       "    <tr>\n",
       "      <th>12</th>\n",
       "      <td>Ford</td>\n",
       "      <td>Focus</td>\n",
       "      <td>2019-11-03</td>\n",
       "      <td>2019-11-03</td>\n",
       "    </tr>\n",
       "    <tr>\n",
       "      <th>14</th>\n",
       "      <td>Volkswagen</td>\n",
       "      <td>Golf</td>\n",
       "      <td>2019-11-03</td>\n",
       "      <td>2019-11-03</td>\n",
       "    </tr>\n",
       "    <tr>\n",
       "      <th>15</th>\n",
       "      <td>Peugeot</td>\n",
       "      <td>206</td>\n",
       "      <td>2019-11-03</td>\n",
       "      <td>2019-11-03</td>\n",
       "    </tr>\n",
       "    <tr>\n",
       "      <th>17</th>\n",
       "      <td>Nissan</td>\n",
       "      <td>Trade</td>\n",
       "      <td>2019-11-03</td>\n",
       "      <td>2019-11-03</td>\n",
       "    </tr>\n",
       "  </tbody>\n",
       "</table>\n",
       "</div>"
      ],
      "text/plain": [
       "   Manufacturer           Model Posted Date Scraping Date\n",
       "2       Renault          Captur  2019-11-02    2019-11-02\n",
       "4          SEAT           Ibiza  2019-11-02    2019-11-02\n",
       "5       Peugeot             206  2019-11-02    2019-11-02\n",
       "6          SEAT            Leon  2019-11-02    2019-11-02\n",
       "8       Citroen  minicamper.pro  2019-11-02    2019-11-02\n",
       "11          BMW         Serie 3  2019-11-03    2019-11-03\n",
       "12         Ford           Focus  2019-11-03    2019-11-03\n",
       "14   Volkswagen            Golf  2019-11-03    2019-11-03\n",
       "15      Peugeot             206  2019-11-03    2019-11-03\n",
       "17       Nissan           Trade  2019-11-03    2019-11-03"
      ]
     },
     "execution_count": 9,
     "metadata": {},
     "output_type": "execute_result"
    }
   ],
   "source": [
    "# Convert type to int\n",
    "df_cars['Price'] = df_cars['Price'].astype(int)\n",
    "df_cars['Mileage'] = df_cars['Mileage'].astype(int)\n",
    "df_cars['Year'] = df_cars['Year'].astype(int)\n",
    "df_cars['Doors'] = df_cars['Doors'].astype(int)\n",
    "df_cars['Seats'] = df_cars['Seats'].astype(int)\n",
    "\n",
    "# mileage_col = df_cars['Mileage'].tolist()\n",
    "# print(sorted(mileage_col))\n",
    "\n",
    "print(df_cars.columns)\n",
    "df_cars.iloc[0:10][['Manufacturer', 'Model', 'Posted Date', 'Scraping Date']]"
   ]
  },
  {
   "cell_type": "code",
   "execution_count": 10,
   "metadata": {},
   "outputs": [],
   "source": [
    "df_cars['Posted Date'] = pd.to_datetime(df_cars['Posted Date'])\n",
    "df_cars['Scraping Date'] = pd.to_datetime(df_cars['Scraping Date'])"
   ]
  },
  {
   "cell_type": "code",
   "execution_count": 11,
   "metadata": {},
   "outputs": [
    {
     "data": {
      "text/plain": [
       "Item Id                  object\n",
       "Url Id                   object\n",
       "Manufacturer             object\n",
       "Model                    object\n",
       "Price                     int64\n",
       "Mileage                   int64\n",
       "Year                      int64\n",
       "Fuel                     object\n",
       "Gear                     object\n",
       "Doors                     int64\n",
       "Seats                     int64\n",
       "Province                 object\n",
       "City                     object\n",
       "Zip Code                 object\n",
       "Posted Date      datetime64[ns]\n",
       "Scraping Date    datetime64[ns]\n",
       "Url                      object\n",
       "dtype: object"
      ]
     },
     "execution_count": 11,
     "metadata": {},
     "output_type": "execute_result"
    }
   ],
   "source": [
    "df_cars.dtypes"
   ]
  },
  {
   "cell_type": "code",
   "execution_count": 12,
   "metadata": {
    "scrolled": true
   },
   "outputs": [],
   "source": [
    "clean_wallapop = create_engine('sqlite:///clean_wallapop_ads.db')\n",
    "df_cars.to_sql('cars', clean_wallapop)"
   ]
  }
 ],
 "metadata": {
  "kernelspec": {
   "display_name": "Python 3",
   "language": "python",
   "name": "python3"
  },
  "language_info": {
   "codemirror_mode": {
    "name": "ipython",
    "version": 3
   },
   "file_extension": ".py",
   "mimetype": "text/x-python",
   "name": "python",
   "nbconvert_exporter": "python",
   "pygments_lexer": "ipython3",
   "version": "3.6.9"
  }
 },
 "nbformat": 4,
 "nbformat_minor": 2
}
